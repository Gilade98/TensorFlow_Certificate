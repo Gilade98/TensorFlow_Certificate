{
 "cells": [
  {
   "cell_type": "markdown",
   "id": "15c565f3",
   "metadata": {
    "id": "AuW-xg_bTsaF"
   },
   "source": [
    "# Week 2: Tackle Overfitting with Data Augmentation\n",
    "\n",
    "Welcome to this assignment! As in the previous week, you will be using the famous `cats vs dogs` dataset to train a model that can classify images of dogs from images of cats. For this, you will create your own Convolutional Neural Network in Tensorflow and leverage Keras' image preprocessing utilities, more so this time around since Keras provides excellent support for augmenting image data.\n",
    "\n",
    "You will also need to create the helper functions to move the images around the filesystem as you did last week, so if you need to refresh your memory with the `os` module be sure to take a look a the [docs](https://docs.python.org/3/library/os.html).\n",
    "\n",
    "Let's get started!"
   ]
  },
  {
   "cell_type": "markdown",
   "id": "178b64a6",
   "metadata": {},
   "source": [
    "_**NOTE:** To prevent errors from the autograder, please avoid editing or deleting non-graded cells in this notebook . Please only put your solutions in between the `### START CODE HERE` and `### END CODE HERE` code comments, and refrain from adding any new cells._"
   ]
  },
  {
   "cell_type": "code",
   "execution_count": 1,
   "id": "88e50e24",
   "metadata": {
    "id": "dn-6c02VmqiN",
    "tags": [
     "graded"
    ]
   },
   "outputs": [],
   "source": [
    "# grader-required-cell\n",
    "\n",
    "import os\n",
    "import zipfile\n",
    "import random\n",
    "import shutil\n",
    "import tensorflow as tf\n",
    "from tensorflow.keras.preprocessing.image import ImageDataGenerator\n",
    "from shutil import copyfile\n",
    "import matplotlib.pyplot as plt"
   ]
  },
  {
   "cell_type": "markdown",
   "id": "6108c84a",
   "metadata": {},
   "source": [
    "# Preparing the data\n",
    "### As done last exercise, leaving in comment"
   ]
  },
  {
   "cell_type": "code",
   "execution_count": 2,
   "id": "47c1c4b4",
   "metadata": {},
   "outputs": [],
   "source": [
    "# print(len(os.listdir('./tmp/PetImages/Cat/')))\n",
    "# print(len(os.listdir('./tmp/PetImages/Dog/')))\n",
    "\n",
    "# # Expected Output:\n",
    "# # 12501\n",
    "# # 12501\n",
    "\n",
    "\n",
    "# # Use os.mkdir to create your directories\n",
    "# # You will need a directory for cats-v-dogs, and subdirectories for training\n",
    "# # and testing. These in turn will need subdirectories for 'cats' and 'dogs'\n",
    "\n",
    "# # Define root directory\n",
    "# root_dir = './tmp/cats-v-dogs'\n",
    "\n",
    "# if os.path.exists(root_dir):\n",
    "#   shutil.rmtree(root_dir)\n",
    "\n",
    "# try:\n",
    "#     #YOUR CODE GOES HERE\n",
    "#     os.mkdir('./tmp/cats-v-dogs')\n",
    "#     os.mkdir('./tmp/cats-v-dogs/training')\n",
    "#     os.mkdir('./tmp/cats-v-dogs/testing')\n",
    "#     os.mkdir(\"./tmp/cats-v-dogs/training/cats/\")\n",
    "#     os.mkdir(\"./tmp/cats-v-dogs/testing/cats/\")\n",
    "#     os.mkdir(\"./tmp/cats-v-dogs/training/dogs/\")\n",
    "#     os.mkdir(\"./tmp/cats-v-dogs/testing/dogs/\")\n",
    "\n",
    "# except OSError:\n",
    "#     pass\n",
    "\n",
    "\n",
    "\n",
    "\n",
    "# # Write a python function called split_data which takes\n",
    "# # a SOURCE directory containing the files\n",
    "# # a TRAINING directory that a portion of the files will be copied to\n",
    "# # a TESTING directory that a portion of the files will be copie to\n",
    "# # a SPLIT SIZE to determine the portion\n",
    "# # The files should also be randomized, so that the training set is a random\n",
    "# # X% of the files, and the test set is the remaining files\n",
    "# # SO, for example, if SOURCE is PetImages/Cat, and SPLIT SIZE is .9\n",
    "# # Then 90% of the images in PetImages/Cat will be copied to the TRAINING dir\n",
    "# # and 10% of the images will be copied to the TESTING dir\n",
    "# # Also -- All images should be checked, and if they have a zero file length,\n",
    "# # they will not be copied over\n",
    "# #\n",
    "# # os.listdir(DIRECTORY) gives you a listing of the contents of that directory\n",
    "# # os.path.getsize(PATH) gives you the size of the file\n",
    "# # copyfile(source, destination) copies a file from source to destination\n",
    "# # random.sample(list, len(list)) shuffles a list\n",
    "# def split_data(SOURCE, TRAINING, TESTING, SPLIT_SIZE):\n",
    "# # YOUR CODE STARTS HERE\n",
    "#     fileslist = []\n",
    "#     #creating list of files\n",
    "#     for filename in os.listdir(SOURCE):\n",
    "#         file = SOURCE + filename\n",
    "#         if (os.path.getsize(file) > 0):\n",
    "#             fileslist.append(filename)\n",
    "#         else:\n",
    "#             print(file +  \" is zero length, so ignoring.\")\n",
    "    \n",
    "#     training_length = int(SPLIT_SIZE*len(fileslist))\n",
    "#     testing_length = int(len(fileslist) - training_length)\n",
    "#     sample = random.sample(fileslist,len(fileslist))\n",
    "#     training_list = sample[0:training_length]\n",
    "#     testing_list = sample[-testing_length:]\n",
    "    \n",
    "#     for filename in training_list:\n",
    "#         curr_file = SOURCE + filename\n",
    "#         dest = TRAINING + filename\n",
    "#         copyfile(curr_file,dest)\n",
    "    \n",
    "#     for filename in testing_list:\n",
    "#         curr_file = SOURCE + filename\n",
    "#         dest = TESTING + filename\n",
    "#         copyfile(curr_file,dest)\n",
    "#         # YOUR CODE ENDS HERE\n",
    "\n",
    "\n",
    "# CAT_SOURCE_DIR = \"./tmp/PetImages/Cat/\"\n",
    "# TRAINING_CATS_DIR = \"./tmp/cats-v-dogs/training/cats/\"\n",
    "# TESTING_CATS_DIR = \"./tmp/cats-v-dogs/testing/cats/\"\n",
    "# DOG_SOURCE_DIR = \"./tmp/PetImages/Dog/\"\n",
    "# TRAINING_DOGS_DIR = \"./tmp/cats-v-dogs/training/dogs/\"\n",
    "# TESTING_DOGS_DIR = \"./tmp/cats-v-dogs/testing/dogs/\"\n",
    "\n",
    "# split_size = .9\n",
    "# split_data(CAT_SOURCE_DIR, TRAINING_CATS_DIR, TESTING_CATS_DIR, split_size)\n",
    "# split_data(DOG_SOURCE_DIR, TRAINING_DOGS_DIR, TESTING_DOGS_DIR, split_size)\n",
    "\n",
    "# # Expected output\n",
    "# # 666.jpg is zero length, so ignoring\n",
    "# # 11702.jpg is zero length, so ignoring\n",
    "\n",
    "\n",
    "# print(len(os.listdir('./tmp/cats-v-dogs/training/cats/')))\n",
    "# print(len(os.listdir('./tmp/cats-v-dogs/training/dogs/')))\n",
    "# print(len(os.listdir('./tmp/cats-v-dogs/testing/cats/')))\n",
    "# print(len(os.listdir('./tmp/cats-v-dogs/testing/dogs/')))\n",
    "\n",
    "# # Expected output:\n",
    "# # 11250\n",
    "# # 11250\n",
    "# # 1250\n",
    "# # 1250"
   ]
  },
  {
   "cell_type": "markdown",
   "id": "01ce64d3",
   "metadata": {
    "id": "Zil4QmOD_mXF"
   },
   "source": [
    "Now that you have successfully organized the data in a way that can be easily fed to Keras' `ImageDataGenerator`, it is time for you to code the generators that will yield batches of images, both for training and validation. For this, complete the `train_val_generators` function below.\n",
    "\n",
    "Something important to note is that the images in this dataset come in a variety of resolutions. Luckily, the `flow_from_directory` method allows you to standarize this by defining a tuple called `target_size` that will be used to convert each image to this target resolution. **For this exercise use a `target_size` of (150, 150)**."
   ]
  },
  {
   "cell_type": "code",
   "execution_count": 3,
   "id": "3a071cf2",
   "metadata": {
    "cellView": "code",
    "id": "fQrZfVgz4j2g",
    "tags": [
     "graded"
    ]
   },
   "outputs": [],
   "source": [
    "# grader-required-cell\n",
    "\n",
    "# GRADED FUNCTION: train_val_generators\n",
    "def train_val_generators(TRAINING_DIR, VALIDATION_DIR):\n",
    "  \"\"\"\n",
    "  Creates the training and validation data generators\n",
    "  \n",
    "  Args:\n",
    "    TRAINING_DIR (string): directory path containing the training images\n",
    "    VALIDATION_DIR (string): directory path containing the testing/validation images\n",
    "    \n",
    "  Returns:\n",
    "    train_generator, validation_generator - tuple containing the generators\n",
    "  \"\"\"\n",
    "  ### START CODE HERE\n",
    "\n",
    "  # Instantiate the ImageDataGenerator class (don't forget to set the arguments to augment the images)\n",
    "  train_datagen = ImageDataGenerator(rescale=1.0/255. ,\n",
    "                                     rotation_range=40,\n",
    "                                     width_shift_range=0.3,\n",
    "                                     height_shift_range=0.3,\n",
    "                                     shear_range=0.2,\n",
    "                                     zoom_range=0.5,\n",
    "                                     horizontal_flip=True,\n",
    "                                     fill_mode='nearest')\n",
    "\n",
    "  # Pass in the appropriate arguments to the flow_from_directory method\n",
    "  train_generator = train_datagen.flow_from_directory(directory=TRAINING_DIR,\n",
    "                                                      batch_size=100,\n",
    "                                                      class_mode='binary',\n",
    "                                                      target_size=(150, 150))\n",
    "\n",
    "  # Instantiate the ImageDataGenerator class (don't forget to set the rescale argument)\n",
    "  validation_datagen = ImageDataGenerator(rescale = 1.0/255. ,\n",
    "                                          rotation_range=40,\n",
    "                                          width_shift_range=0.3,\n",
    "                                          height_shift_range=0.3,\n",
    "                                          shear_range=0.2,\n",
    "                                          zoom_range=0.5,\n",
    "                                          horizontal_flip=True,\n",
    "                                          fill_mode='nearest'\n",
    "  )\n",
    "\n",
    "  # Pass in the appropriate arguments to the flow_from_directory method\n",
    "  validation_generator = validation_datagen.flow_from_directory(directory=VALIDATION_DIR,\n",
    "                                                                batch_size=100,\n",
    "                                                                class_mode='binary',\n",
    "                                                                target_size=(150, 150))\n",
    "  ### END CODE HERE\n",
    "  return train_generator, validation_generator"
   ]
  },
  {
   "cell_type": "code",
   "execution_count": 4,
   "id": "bdd46fd1",
   "metadata": {
    "id": "qM7FxrjGiobD",
    "tags": [
     "graded"
    ]
   },
   "outputs": [
    {
     "name": "stdout",
     "output_type": "stream",
     "text": [
      "Found 22498 images belonging to 2 classes.\n",
      "Found 2500 images belonging to 2 classes.\n"
     ]
    }
   ],
   "source": [
    "# grader-required-cell\n",
    "\n",
    "# Test your generators\n",
    "TRAINING_DIR = \"./tmp/cats-v-dogs/training/\"\n",
    "VALIDATION_DIR = \"./tmp/cats-v-dogs/testing/\"\n",
    "train_generator, validation_generator = train_val_generators(TRAINING_DIR, VALIDATION_DIR)"
   ]
  },
  {
   "cell_type": "markdown",
   "id": "ec9e591e",
   "metadata": {
    "id": "tiPNmSfZjHwJ"
   },
   "source": [
    "**Expected Output:**\n",
    "\n",
    "```\n",
    "Found 22498 images belonging to 2 classes.\n",
    "Found 2500 images belonging to 2 classes.\n",
    "```\n"
   ]
  },
  {
   "cell_type": "markdown",
   "id": "ff53f4ff",
   "metadata": {
    "id": "TI3oEmyQCZoO"
   },
   "source": [
    "One last step before training is to define the architecture of the model that will be trained.\n",
    "\n",
    "Complete the `create_model` function below which should return a Keras' `Sequential` model.\n",
    "\n",
    "Aside from defining the architecture of the model, you should also compile it so make sure to use a `loss` function that is compatible with the `class_mode` you defined in the previous exercise, which should also be compatible with the output of your network. You can tell if they aren't compatible if you get an error during training.\n",
    "\n",
    "**Note that you should use at least 3 convolution layers to achieve the desired performance.**"
   ]
  },
  {
   "cell_type": "code",
   "execution_count": 5,
   "id": "6285db36",
   "metadata": {
    "cellView": "code",
    "id": "oDPK8tUB_O9e",
    "lines_to_next_cell": 2,
    "tags": [
     "graded"
    ]
   },
   "outputs": [],
   "source": [
    "# grader-required-cell\n",
    "\n",
    "# GRADED FUNCTION: create_model\n",
    "def create_model():\n",
    "  # DEFINE A KERAS MODEL TO CLASSIFY CATS V DOGS\n",
    "  # USE AT LEAST 3 CONVOLUTION LAYERS\n",
    "\n",
    "  ### START CODE HERE\n",
    "\n",
    "  model = tf.keras.models.Sequential([\n",
    "      tf.keras.layers.Conv2D(16, (3,3), activation = 'relu', input_shape = (150,150,3)),\n",
    "      tf.keras.layers.MaxPooling2D(2,2),\n",
    "      tf.keras.layers.Conv2D(32, (3,3), activation = 'relu'),\n",
    "      tf.keras.layers.MaxPooling2D(2,2),\n",
    "      tf.keras.layers.Conv2D(64, (3,3), activation = 'relu'),\n",
    "      tf.keras.layers.MaxPooling2D(2,2),\n",
    "      tf.keras.layers.Conv2D(64, (3,3), activation = 'relu'),\n",
    "      tf.keras.layers.MaxPooling2D(2,2),\n",
    "      \n",
    "      \n",
    "      tf.keras.layers.Flatten(),\n",
    "      tf.keras.layers.Dense(512, activation = 'relu'),\n",
    "      tf.keras.layers.Dense(1, activation = 'sigmoid')\n",
    "      \n",
    "  ])\n",
    "\n",
    "  \n",
    "  model.compile(optimizer='adam',\n",
    "                loss='binary_crossentropy',\n",
    "                metrics=['accuracy']) \n",
    "    \n",
    "  ### END CODE HERE\n",
    "\n",
    "  return model"
   ]
  },
  {
   "cell_type": "markdown",
   "id": "e1e86846",
   "metadata": {
    "id": "SMFNJZmTCZv6"
   },
   "source": [
    "Now it is time to train your model!\n",
    "\n",
    "Note: You can ignore the `UserWarning: Possibly corrupt EXIF data.` warnings."
   ]
  },
  {
   "cell_type": "code",
   "execution_count": 6,
   "id": "b1bf121f",
   "metadata": {
    "id": "5qE1G6JB4fMn",
    "tags": []
   },
   "outputs": [
    {
     "name": "stdout",
     "output_type": "stream",
     "text": [
      "Epoch 1/20\n",
      " 76/225 [=========>....................] - ETA: 1:55 - loss: 0.6928 - accuracy: 0.5312"
     ]
    },
    {
     "name": "stderr",
     "output_type": "stream",
     "text": [
      "C:\\Users\\GILAD\\anaconda3\\Lib\\site-packages\\PIL\\TiffImagePlugin.py:858: UserWarning: Truncated File Read\n",
      "  warnings.warn(str(msg))\n"
     ]
    },
    {
     "name": "stdout",
     "output_type": "stream",
     "text": [
      "225/225 [==============================] - 189s 834ms/step - loss: 0.6755 - accuracy: 0.5728 - val_loss: 0.6605 - val_accuracy: 0.6064\n",
      "Epoch 2/20\n",
      "225/225 [==============================] - 189s 840ms/step - loss: 0.6421 - accuracy: 0.6257 - val_loss: 0.6155 - val_accuracy: 0.6376\n",
      "Epoch 3/20\n",
      "225/225 [==============================] - 189s 839ms/step - loss: 0.6172 - accuracy: 0.6556 - val_loss: 0.5855 - val_accuracy: 0.6840\n",
      "Epoch 4/20\n",
      "225/225 [==============================] - 190s 844ms/step - loss: 0.5860 - accuracy: 0.6897 - val_loss: 0.5984 - val_accuracy: 0.6800\n",
      "Epoch 5/20\n",
      "225/225 [==============================] - 197s 876ms/step - loss: 0.5734 - accuracy: 0.6979 - val_loss: 0.5549 - val_accuracy: 0.7136\n",
      "Epoch 6/20\n",
      "225/225 [==============================] - 205s 909ms/step - loss: 0.5592 - accuracy: 0.7086 - val_loss: 0.5466 - val_accuracy: 0.7168\n",
      "Epoch 7/20\n",
      "225/225 [==============================] - 204s 906ms/step - loss: 0.5439 - accuracy: 0.7232 - val_loss: 0.5464 - val_accuracy: 0.7188\n",
      "Epoch 8/20\n",
      "225/225 [==============================] - 194s 864ms/step - loss: 0.5372 - accuracy: 0.7255 - val_loss: 0.5226 - val_accuracy: 0.7416\n",
      "Epoch 9/20\n",
      "225/225 [==============================] - 195s 866ms/step - loss: 0.5229 - accuracy: 0.7403 - val_loss: 0.5142 - val_accuracy: 0.7484\n",
      "Epoch 10/20\n",
      "225/225 [==============================] - 195s 866ms/step - loss: 0.5055 - accuracy: 0.7483 - val_loss: 0.4887 - val_accuracy: 0.7544\n",
      "Epoch 11/20\n",
      "225/225 [==============================] - 197s 875ms/step - loss: 0.4938 - accuracy: 0.7619 - val_loss: 0.4898 - val_accuracy: 0.7620\n",
      "Epoch 12/20\n",
      "225/225 [==============================] - 197s 876ms/step - loss: 0.4845 - accuracy: 0.7647 - val_loss: 0.4775 - val_accuracy: 0.7612\n",
      "Epoch 13/20\n",
      "225/225 [==============================] - 196s 870ms/step - loss: 0.4582 - accuracy: 0.7836 - val_loss: 0.4512 - val_accuracy: 0.7840\n",
      "Epoch 14/20\n",
      "225/225 [==============================] - 195s 865ms/step - loss: 0.4505 - accuracy: 0.7864 - val_loss: 0.4393 - val_accuracy: 0.7952\n",
      "Epoch 15/20\n",
      "225/225 [==============================] - 189s 841ms/step - loss: 0.4416 - accuracy: 0.7943 - val_loss: 0.4299 - val_accuracy: 0.7960\n",
      "Epoch 16/20\n",
      "225/225 [==============================] - 192s 852ms/step - loss: 0.4282 - accuracy: 0.8000 - val_loss: 0.4170 - val_accuracy: 0.8096\n",
      "Epoch 17/20\n",
      "225/225 [==============================] - 192s 852ms/step - loss: 0.4185 - accuracy: 0.8042 - val_loss: 0.4013 - val_accuracy: 0.8116\n",
      "Epoch 18/20\n",
      "225/225 [==============================] - 191s 848ms/step - loss: 0.4161 - accuracy: 0.8087 - val_loss: 0.3928 - val_accuracy: 0.8220\n",
      "Epoch 19/20\n",
      "225/225 [==============================] - 193s 858ms/step - loss: 0.3958 - accuracy: 0.8179 - val_loss: 0.4318 - val_accuracy: 0.7968\n",
      "Epoch 20/20\n",
      "225/225 [==============================] - 193s 858ms/step - loss: 0.3952 - accuracy: 0.8152 - val_loss: 0.3747 - val_accuracy: 0.8372\n"
     ]
    }
   ],
   "source": [
    "# Get the untrained model\n",
    "model = create_model()\n",
    "\n",
    "# Train the model\n",
    "# Note that this may take some time.\n",
    "history = model.fit(train_generator,\n",
    "                    epochs=20,\n",
    "                    verbose=1,\n",
    "                    validation_data=validation_generator)"
   ]
  },
  {
   "cell_type": "markdown",
   "id": "d533ecc6",
   "metadata": {
    "id": "VGsaDMc-GMd4"
   },
   "source": [
    "Once training has finished, you can run the following cell to check the training and validation accuracy achieved at the end of each epoch.\n",
    "\n",
    "**To pass this assignment, your model should achieve a training and validation accuracy of at least 80% and the final testing accuracy should be either higher than the training one or have a 5% difference at maximum**. If your model didn't achieve these thresholds, try training again with a different model architecture, remember to use at least 3 convolutional layers or try tweaking the image augmentation process.\n",
    "\n",
    "You might wonder why the training threshold to pass this assignment is significantly lower compared to last week's assignment. Image augmentation does help with overfitting but usually this comes at the expense of requiring more training time. To keep the training time reasonable, the same number of epochs as in the previous assignment are kept. \n",
    "\n",
    "However, as an optional exercise you are encouraged to try training for more epochs and to achieve really good training and validation accuracies."
   ]
  },
  {
   "cell_type": "code",
   "execution_count": 7,
   "id": "54adf1a8",
   "metadata": {
    "id": "MWZrJN4-65RC",
    "tags": []
   },
   "outputs": [
    {
     "data": {
      "image/png": "[encoded data removed]",
      "text/plain": [
       "<Figure size 640x480 with 1 Axes>"
      ]
     },
     "metadata": {},
     "output_type": "display_data"
    },
    {
     "name": "stdout",
     "output_type": "stream",
     "text": [
      "\n"
     ]
    },
    {
     "data": {
      "image/png": "[encoded data removed]",
      "text/plain": [
       "<Figure size 640x480 with 1 Axes>"
      ]
     },
     "metadata": {},
     "output_type": "display_data"
    }
   ],
   "source": [
    "#-----------------------------------------------------------\n",
    "# Retrieve a list of list results on training and test data\n",
    "# sets for each training epoch\n",
    "#-----------------------------------------------------------\n",
    "acc=history.history['accuracy']\n",
    "val_acc=history.history['val_accuracy']\n",
    "loss=history.history['loss']\n",
    "val_loss=history.history['val_loss']\n",
    "\n",
    "epochs=range(len(acc)) # Get number of epochs\n",
    "\n",
    "#------------------------------------------------\n",
    "# Plot training and validation accuracy per epoch\n",
    "#------------------------------------------------\n",
    "plt.plot(epochs, acc, 'r', \"Training Accuracy\")\n",
    "plt.plot(epochs, val_acc, 'b', \"Validation Accuracy\")\n",
    "plt.title('Training and validation accuracy')\n",
    "plt.show()\n",
    "print(\"\")\n",
    "\n",
    "#------------------------------------------------\n",
    "# Plot training and validation loss per epoch\n",
    "#------------------------------------------------\n",
    "plt.plot(epochs, loss, 'r', \"Training Loss\")\n",
    "plt.plot(epochs, val_loss, 'b', \"Validation Loss\")\n",
    "plt.show()"
   ]
  },
  {
   "cell_type": "markdown",
   "id": "b32d7250",
   "metadata": {
    "id": "joAaZSWWpbOI"
   },
   "source": [
    "**Congratulations on finishing this week's assignment!**\n",
    "\n",
    "You have successfully implemented a convolutional neural network that classifies images of cats and dogs, along with the helper functions needed to pre-process the images!\n",
    "\n",
    "**Keep it up!**"
   ]
  }
 ],
 "metadata": {
  "accelerator": "GPU",
  "kernelspec": {
   "display_name": "Python 3 (ipykernel)",
   "language": "python",
   "name": "python3"
  },
  "language_info": {
   "codemirror_mode": {
    "name": "ipython",
    "version": 3
   },
   "file_extension": ".py",
   "mimetype": "text/x-python",
   "name": "python",
   "nbconvert_exporter": "python",
   "pygments_lexer": "ipython3",
   "version": "3.11.5"
  }
 },
 "nbformat": 4,
 "nbformat_minor": 5
}
