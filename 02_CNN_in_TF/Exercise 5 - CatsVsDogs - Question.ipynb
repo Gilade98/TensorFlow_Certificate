{
 "cells": [
  {
   "cell_type": "code",
   "execution_count": 1,
   "metadata": {
    "colab": {},
    "colab_type": "code",
    "id": "zX4Kg8DUTKWO"
   },
   "outputs": [],
   "source": [
    "#@title Licensed under the Apache License, Version 2.0 (the \"License\");\n",
    "# you may not use this file except in compliance with the License.\n",
    "# You may obtain a copy of the License at\n",
    "#\n",
    "# https://www.apache.org/licenses/LICENSE-2.0\n",
    "#\n",
    "# Unless required by applicable law or agreed to in writing, software\n",
    "# distributed under the License is distributed on an \"AS IS\" BASIS,\n",
    "# WITHOUT WARRANTIES OR CONDITIONS OF ANY KIND, either express or implied.\n",
    "# See the License for the specific language governing permissions and\n",
    "# limitations under the License."
   ]
  },
  {
   "cell_type": "code",
   "execution_count": 32,
   "metadata": {
    "colab": {},
    "colab_type": "code",
    "id": "dn-6c02VmqiN"
   },
   "outputs": [],
   "source": [
    "# In this exercise you will train a CNN on the FULL Cats-v-dogs dataset\n",
    "# This will require you doing a lot of data preprocessing because\n",
    "# the dataset isn't split into training and validation for you\n",
    "# This code block has all the required inputs\n",
    "import os\n",
    "import zipfile\n",
    "import random\n",
    "import shutil\n",
    "import tensorflow as tf\n",
    "from tensorflow.keras.optimizers import RMSprop\n",
    "from tensorflow.keras.preprocessing.image import ImageDataGenerator\n",
    "from shutil import copyfile"
   ]
  },
  {
   "cell_type": "code",
   "execution_count": 33,
   "metadata": {
    "colab": {},
    "colab_type": "code",
    "id": "gi3yD62a6X3S"
   },
   "outputs": [
    {
     "name": "stdout",
     "output_type": "stream",
     "text": [
      "12501\n",
      "12501\n"
     ]
    }
   ],
   "source": [
    "print(len(os.listdir('./tmp/PetImages/Cat/')))\n",
    "print(len(os.listdir('./tmp/PetImages/Dog/')))\n",
    "\n",
    "# Expected Output:\n",
    "# 12501\n",
    "# 12501"
   ]
  },
  {
   "cell_type": "code",
   "execution_count": 34,
   "metadata": {
    "colab": {},
    "colab_type": "code",
    "id": "F-QkLjxpmyK2"
   },
   "outputs": [],
   "source": [
    "# Use os.mkdir to create your directories\n",
    "# You will need a directory for cats-v-dogs, and subdirectories for training\n",
    "# and testing. These in turn will need subdirectories for 'cats' and 'dogs'\n",
    "\n",
    "# Define root directory\n",
    "root_dir = './tmp/cats-v-dogs'\n",
    "\n",
    "if os.path.exists(root_dir):\n",
    "  shutil.rmtree(root_dir)\n",
    "\n",
    "try:\n",
    "    #YOUR CODE GOES HERE\n",
    "    os.mkdir('./tmp/cats-v-dogs')\n",
    "    os.mkdir('./tmp/cats-v-dogs/training')\n",
    "    os.mkdir('./tmp/cats-v-dogs/testing')\n",
    "    os.mkdir(\"./tmp/cats-v-dogs/training/cats/\")\n",
    "    os.mkdir(\"./tmp/cats-v-dogs/testing/cats/\")\n",
    "    os.mkdir(\"./tmp/cats-v-dogs/training/dogs/\")\n",
    "    os.mkdir(\"./tmp/cats-v-dogs/testing/dogs/\")\n",
    "\n",
    "except OSError:\n",
    "    pass"
   ]
  },
  {
   "cell_type": "code",
   "execution_count": 37,
   "metadata": {
    "colab": {},
    "colab_type": "code",
    "id": "zvSODo0f9LaU"
   },
   "outputs": [
    {
     "name": "stdout",
     "output_type": "stream",
     "text": [
      "./tmp/PetImages/Cat/666.jpg is zero length, so ignoring.\n",
      "./tmp/PetImages/Dog/11702.jpg is zero length, so ignoring.\n"
     ]
    }
   ],
   "source": [
    "# Write a python function called split_data which takes\n",
    "# a SOURCE directory containing the files\n",
    "# a TRAINING directory that a portion of the files will be copied to\n",
    "# a TESTING directory that a portion of the files will be copie to\n",
    "# a SPLIT SIZE to determine the portion\n",
    "# The files should also be randomized, so that the training set is a random\n",
    "# X% of the files, and the test set is the remaining files\n",
    "# SO, for example, if SOURCE is PetImages/Cat, and SPLIT SIZE is .9\n",
    "# Then 90% of the images in PetImages/Cat will be copied to the TRAINING dir\n",
    "# and 10% of the images will be copied to the TESTING dir\n",
    "# Also -- All images should be checked, and if they have a zero file length,\n",
    "# they will not be copied over\n",
    "#\n",
    "# os.listdir(DIRECTORY) gives you a listing of the contents of that directory\n",
    "# os.path.getsize(PATH) gives you the size of the file\n",
    "# copyfile(source, destination) copies a file from source to destination\n",
    "# random.sample(list, len(list)) shuffles a list\n",
    "def split_data(SOURCE, TRAINING, TESTING, SPLIT_SIZE):\n",
    "# YOUR CODE STARTS HERE\n",
    "    fileslist = []\n",
    "    #creating list of files\n",
    "    for filename in os.listdir(SOURCE):\n",
    "        file = SOURCE + filename\n",
    "        if (os.path.getsize(file) > 0):\n",
    "            fileslist.append(filename)\n",
    "        else:\n",
    "            print(file +  \" is zero length, so ignoring.\")\n",
    "    \n",
    "    training_length = int(SPLIT_SIZE*len(fileslist))\n",
    "    testing_length = int(len(fileslist) - training_length)\n",
    "    sample = random.sample(fileslist,len(fileslist))\n",
    "    training_list = sample[0:training_length]\n",
    "    testing_list = sample[-testing_length:]\n",
    "    \n",
    "    for filename in training_list:\n",
    "        curr_file = SOURCE + filename\n",
    "        dest = TRAINING + filename\n",
    "        copyfile(curr_file,dest)\n",
    "    \n",
    "    for filename in testing_list:\n",
    "        curr_file = SOURCE + filename\n",
    "        dest = TESTING + filename\n",
    "        copyfile(curr_file,dest)\n",
    "        \n",
    "        \n",
    "    \n",
    "        \n",
    "        \n",
    "    \n",
    "    \n",
    "# YOUR CODE ENDS HERE\n",
    "\n",
    "\n",
    "CAT_SOURCE_DIR = \"./tmp/PetImages/Cat/\"\n",
    "TRAINING_CATS_DIR = \"./tmp/cats-v-dogs/training/cats/\"\n",
    "TESTING_CATS_DIR = \"./tmp/cats-v-dogs/testing/cats/\"\n",
    "DOG_SOURCE_DIR = \"./tmp/PetImages/Dog/\"\n",
    "TRAINING_DOGS_DIR = \"./tmp/cats-v-dogs/training/dogs/\"\n",
    "TESTING_DOGS_DIR = \"./tmp/cats-v-dogs/testing/dogs/\"\n",
    "\n",
    "split_size = .9\n",
    "split_data(CAT_SOURCE_DIR, TRAINING_CATS_DIR, TESTING_CATS_DIR, split_size)\n",
    "split_data(DOG_SOURCE_DIR, TRAINING_DOGS_DIR, TESTING_DOGS_DIR, split_size)\n",
    "\n",
    "# Expected output\n",
    "# 666.jpg is zero length, so ignoring\n",
    "# 11702.jpg is zero length, so ignoring"
   ]
  },
  {
   "cell_type": "code",
   "execution_count": 39,
   "metadata": {
    "colab": {},
    "colab_type": "code",
    "id": "luthalB76ufC"
   },
   "outputs": [
    {
     "name": "stdout",
     "output_type": "stream",
     "text": [
      "11250\n",
      "11250\n",
      "1250\n",
      "1250\n"
     ]
    }
   ],
   "source": [
    "print(len(os.listdir('./tmp/cats-v-dogs/training/cats/')))\n",
    "print(len(os.listdir('./tmp/cats-v-dogs/training/dogs/')))\n",
    "print(len(os.listdir('./tmp/cats-v-dogs/testing/cats/')))\n",
    "print(len(os.listdir('./tmp/cats-v-dogs/testing/dogs/')))\n",
    "\n",
    "# Expected output:\n",
    "# 11250\n",
    "# 11250\n",
    "# 1250\n",
    "# 1250"
   ]
  },
  {
   "cell_type": "code",
   "execution_count": 42,
   "metadata": {},
   "outputs": [
    {
     "name": "stdout",
     "output_type": "stream",
     "text": [
      "Found 22498 images belonging to 2 classes.\n",
      "Found 2500 images belonging to 2 classes.\n"
     ]
    }
   ],
   "source": [
    "TRAINING_DIR = \"./tmp/cats-v-dogs/training/\"\n",
    "train_datagen = ImageDataGenerator(rescale =1.0/255. )\n",
    "train_generator = train_datagen.flow_from_directory(directory = TRAINING_DIR,\n",
    "                                                    batch_size =128,\n",
    "                                                    class_mode = 'binary',\n",
    "                                                    target_size = (150,150)\n",
    ")\n",
    "\n",
    "VALIDATION_DIR = \"./tmp/cats-v-dogs/testing/\"\n",
    "validation_datagen = ImageDataGenerator(rescale = 1.0/255. )\n",
    "validation_generator = validation_datagen.flow_from_directory(directory = VALIDATION_DIR,\n",
    "                                                              batch_size = 128,\n",
    "                                                              class_mode= 'binary',\n",
    "                                                              target_size = (150,150)\n",
    ")\n",
    "\n",
    "\n",
    "\n",
    "# Expected Output:\n",
    "# Found 22498 images belonging to 2 classes.\n",
    "# Found 2500 images belonging to 2 classes."
   ]
  },
  {
   "cell_type": "code",
   "execution_count": 45,
   "metadata": {
    "colab": {},
    "colab_type": "code",
    "id": "-BQrav4anTmj"
   },
   "outputs": [],
   "source": [
    "# DEFINE A KERAS MODEL TO CLASSIFY CATS V DOGS\n",
    "# USE AT LEAST 3 CONVOLUTION LAYERS\n",
    "model = tf.keras.models.Sequential([\n",
    "# YOUR CODE HERE\n",
    "    tf.keras.layers.Conv2D(16 , (3,3), activation = 'relu', input_shape = (150,150,3)),\n",
    "    tf.keras.layers.MaxPooling2D(2,2),\n",
    "    tf.keras.layers.Conv2D(32 , (3,3), activation = 'relu',),\n",
    "    tf.keras.layers.MaxPooling2D(2,2),\n",
    "    tf.keras.layers.Conv2D(64 , (3,3), activation = 'relu',),\n",
    "    tf.keras.layers.MaxPooling2D(2,2),\n",
    "    \n",
    "    tf.keras.layers.Flatten(),\n",
    "    tf.keras.layers.Dense(512, activation = 'relu'),\n",
    "    tf.keras.layers.Dense(1, activation = 'sigmoid')\n",
    "    \n",
    "])\n",
    "\n",
    "model.compile(optimizer=RMSprop(learning_rate=0.001), loss='binary_crossentropy', metrics=['accuracy'])"
   ]
  },
  {
   "cell_type": "code",
   "execution_count": 46,
   "metadata": {
    "colab": {},
    "colab_type": "code",
    "id": "KyS4n53w7DxC"
   },
   "outputs": [
    {
     "name": "stdout",
     "output_type": "stream",
     "text": [
      "Epoch 1/15\n",
      " 84/176 [=============>................] - ETA: 56s - loss: 0.7507 - accuracy: 0.5592"
     ]
    },
    {
     "name": "stderr",
     "output_type": "stream",
     "text": [
      "C:\\Users\\GILAD\\anaconda3\\Lib\\site-packages\\PIL\\TiffImagePlugin.py:858: UserWarning: Truncated File Read\n",
      "  warnings.warn(str(msg))\n"
     ]
    },
    {
     "name": "stdout",
     "output_type": "stream",
     "text": [
      "176/176 [==============================] - 116s 657ms/step - loss: 0.6794 - accuracy: 0.6113 - val_loss: 0.5772 - val_accuracy: 0.6860\n",
      "Epoch 2/15\n",
      "176/176 [==============================] - 114s 644ms/step - loss: 0.5485 - accuracy: 0.7193 - val_loss: 0.5151 - val_accuracy: 0.7476\n",
      "Epoch 3/15\n",
      "176/176 [==============================] - 106s 603ms/step - loss: 0.4982 - accuracy: 0.7600 - val_loss: 0.4729 - val_accuracy: 0.7712\n",
      "Epoch 4/15\n",
      "176/176 [==============================] - 107s 605ms/step - loss: 0.4539 - accuracy: 0.7845 - val_loss: 0.4538 - val_accuracy: 0.7796\n",
      "Epoch 5/15\n",
      "176/176 [==============================] - 106s 600ms/step - loss: 0.4089 - accuracy: 0.8097 - val_loss: 0.4900 - val_accuracy: 0.7700\n",
      "Epoch 6/15\n",
      "176/176 [==============================] - 105s 596ms/step - loss: 0.3682 - accuracy: 0.8337 - val_loss: 0.4859 - val_accuracy: 0.7816\n",
      "Epoch 7/15\n",
      "176/176 [==============================] - 108s 611ms/step - loss: 0.3271 - accuracy: 0.8568 - val_loss: 0.4073 - val_accuracy: 0.8172\n",
      "Epoch 8/15\n",
      "176/176 [==============================] - 105s 596ms/step - loss: 0.2763 - accuracy: 0.8795 - val_loss: 0.4605 - val_accuracy: 0.8096\n",
      "Epoch 9/15\n",
      "176/176 [==============================] - 107s 605ms/step - loss: 0.2220 - accuracy: 0.9077 - val_loss: 0.4086 - val_accuracy: 0.8248\n",
      "Epoch 10/15\n",
      "176/176 [==============================] - 105s 596ms/step - loss: 0.1661 - accuracy: 0.9372 - val_loss: 0.4591 - val_accuracy: 0.8204\n",
      "Epoch 11/15\n",
      "176/176 [==============================] - 105s 596ms/step - loss: 0.1196 - accuracy: 0.9593 - val_loss: 0.6574 - val_accuracy: 0.7940\n",
      "Epoch 12/15\n",
      "176/176 [==============================] - 105s 596ms/step - loss: 0.0627 - accuracy: 0.9799 - val_loss: 0.7653 - val_accuracy: 0.7948\n",
      "Epoch 13/15\n",
      "176/176 [==============================] - 105s 595ms/step - loss: 0.0805 - accuracy: 0.9788 - val_loss: 0.6686 - val_accuracy: 0.8244\n",
      "Epoch 14/15\n",
      "176/176 [==============================] - 105s 595ms/step - loss: 0.0445 - accuracy: 0.9876 - val_loss: 0.7599 - val_accuracy: 0.8224\n",
      "Epoch 15/15\n",
      "176/176 [==============================] - 105s 594ms/step - loss: 0.0569 - accuracy: 0.9855 - val_loss: 0.6974 - val_accuracy: 0.8208\n"
     ]
    }
   ],
   "source": [
    "history = model.fit(train_generator,\n",
    "                              epochs=15,\n",
    "                              verbose=1,\n",
    "                              validation_data=validation_generator)\n",
    "\n",
    "# The expectation here is that the model will train, and that accuracy will be > 95% on both training and validation\n",
    "# i.e. acc:A1 and val_acc:A2 will be visible, and both A1 and A2 will be > .9"
   ]
  },
  {
   "cell_type": "markdown",
   "metadata": {},
   "source": [
    "To pass this assignment, your model should achieve a training accuracy of at least 95% and a validation accuracy of at least 80%"
   ]
  },
  {
   "cell_type": "code",
   "execution_count": 60,
   "metadata": {
    "colab": {},
    "colab_type": "code",
    "id": "MWZrJN4-65RC"
   },
   "outputs": [
    {
     "data": {
      "text/plain": [
       "Text(0.5, 1.0, 'Training and validation loss')"
      ]
     },
     "execution_count": 60,
     "metadata": {},
     "output_type": "execute_result"
    },
    {
     "data": {
      "image/png": "[encoded data removed]",
      "text/plain": [
       "<Figure size 640x480 with 1 Axes>"
      ]
     },
     "metadata": {},
     "output_type": "display_data"
    },
    {
     "data": {
      "image/png": "[encoded data removed]",
      "text/plain": [
       "<Figure size 640x480 with 1 Axes>"
      ]
     },
     "metadata": {},
     "output_type": "display_data"
    }
   ],
   "source": [
    "# PLOT LOSS AND ACCURACY\n",
    "%matplotlib inline\n",
    "\n",
    "import matplotlib.image  as mpimg\n",
    "import matplotlib.pyplot as plt\n",
    "\n",
    "#-----------------------------------------------------------\n",
    "# Retrieve a list of list results on training and test data\n",
    "# sets for each training epoch\n",
    "#-----------------------------------------------------------\n",
    "acc=history.history['accuracy']\n",
    "val_acc=history.history['val_accuracy']\n",
    "loss=history.history['loss']\n",
    "val_loss=history.history['val_loss']\n",
    "\n",
    "epochs=range(len(acc)) # Get number of epochs\n",
    "\n",
    "#------------------------------------------------\n",
    "# Plot training and validation accuracy per epoch\n",
    "#------------------------------------------------\n",
    "plt.plot(epochs, acc, 'r', label = \"Training Accuracy\")\n",
    "plt.plot(epochs, val_acc, 'b', label = \"Validation Accuracy\")\n",
    "plt.title('Training and validation accuracy')\n",
    "plt.legend()\n",
    "plt.figure()\n",
    "\n",
    "#------------------------------------------------\n",
    "# Plot training and validation loss per epoch\n",
    "#------------------------------------------------\n",
    "plt.plot(epochs, loss, 'r', label = \"Training Loss\")\n",
    "plt.plot(epochs, val_loss, 'b', label = \"Validation Loss\")\n",
    "plt.legend()\n",
    "\n",
    "plt.title('Training and validation loss')\n",
    "\n",
    "# Desired output. Charts with training and validation metrics. No crash :)"
   ]
  },
  {
   "cell_type": "code",
   "execution_count": 59,
   "metadata": {
    "colab": {},
    "colab_type": "code",
    "id": "LqL6FYUrtXpf"
   },
   "outputs": [
    {
     "ename": "ModuleNotFoundError",
     "evalue": "No module named 'google.colab'",
     "output_type": "error",
     "traceback": [
      "\u001b[1;31m---------------------------------------------------------------------------\u001b[0m",
      "\u001b[1;31mModuleNotFoundError\u001b[0m                       Traceback (most recent call last)",
      "Cell \u001b[1;32mIn[59], line 5\u001b[0m\n\u001b[0;32m      1\u001b[0m \u001b[38;5;66;03m# Here's a codeblock just for fun. You should be able to upload an image here \u001b[39;00m\n\u001b[0;32m      2\u001b[0m \u001b[38;5;66;03m# and have it classified without crashing\u001b[39;00m\n\u001b[0;32m      4\u001b[0m \u001b[38;5;28;01mimport\u001b[39;00m \u001b[38;5;21;01mnumpy\u001b[39;00m \u001b[38;5;28;01mas\u001b[39;00m \u001b[38;5;21;01mnp\u001b[39;00m\n\u001b[1;32m----> 5\u001b[0m \u001b[38;5;28;01mfrom\u001b[39;00m \u001b[38;5;21;01mgoogle\u001b[39;00m\u001b[38;5;21;01m.\u001b[39;00m\u001b[38;5;21;01mcolab\u001b[39;00m \u001b[38;5;28;01mimport\u001b[39;00m files\n\u001b[0;32m      6\u001b[0m \u001b[38;5;28;01mfrom\u001b[39;00m \u001b[38;5;21;01mkeras\u001b[39;00m\u001b[38;5;21;01m.\u001b[39;00m\u001b[38;5;21;01mpreprocessing\u001b[39;00m \u001b[38;5;28;01mimport\u001b[39;00m image\n\u001b[0;32m      8\u001b[0m uploaded \u001b[38;5;241m=\u001b[39m files\u001b[38;5;241m.\u001b[39mupload()\n",
      "\u001b[1;31mModuleNotFoundError\u001b[0m: No module named 'google.colab'"
     ]
    }
   ],
   "source": [
    "# Here's a codeblock just for fun. You should be able to upload an image here \n",
    "# and have it classified without crashing\n",
    "\n",
    "import numpy as np\n",
    "from google.colab import files\n",
    "from keras.preprocessing import image\n",
    "\n",
    "uploaded = files.upload()\n",
    "\n",
    "for fn in uploaded.keys():\n",
    " \n",
    "  # predicting images\n",
    "  path = '/content/' + fn\n",
    "  img = image.load_img(path, target_size=(150,150))\n",
    "  x = image.img_to_array(img)\n",
    "  x = np.expand_dims(x, axis=0)\n",
    "\n",
    "  images = np.vstack([x])\n",
    "  classes = model.predict(images, batch_size=10)\n",
    "  print(classes[0])\n",
    "  if classes[0]>0.5:\n",
    "    print(fn + \" is a dog\")\n",
    "  else:\n",
    "    print(fn + \" is a cat\")"
   ]
  },
  {
   "cell_type": "code",
   "execution_count": null,
   "metadata": {},
   "outputs": [],
   "source": []
  }
 ],
 "metadata": {
  "accelerator": "GPU",
  "colab": {
   "collapsed_sections": [],
   "name": "Exercise 5 - Question.ipynb",
   "provenance": [],
   "toc_visible": true,
   "version": "0.3.2"
  },
  "kernelspec": {
   "display_name": "Python 3 (ipykernel)",
   "language": "python",
   "name": "python3"
  },
  "language_info": {
   "codemirror_mode": {
    "name": "ipython",
    "version": 3
   },
   "file_extension": ".py",
   "mimetype": "text/x-python",
   "name": "python",
   "nbconvert_exporter": "python",
   "pygments_lexer": "ipython3",
   "version": "3.11.5"
  }
 },
 "nbformat": 4,
 "nbformat_minor": 1
}
